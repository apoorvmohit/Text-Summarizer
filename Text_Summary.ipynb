{
  "nbformat": 4,
  "nbformat_minor": 0,
  "metadata": {
    "colab": {
      "provenance": []
    },
    "kernelspec": {
      "name": "python3",
      "display_name": "Python 3"
    },
    "language_info": {
      "name": "python"
    }
  },
  "cells": [
    {
      "cell_type": "code",
      "source": [
        "import nltk\n",
        "from nltk.corpus import stopwords\n",
        "from nltk.cluster.util import cosine_distance\n",
        "import numpy as np\n",
        "import networkx as nx"
      ],
      "metadata": {
        "id": "rLcWL4OHwGnt"
      },
      "execution_count": 1,
      "outputs": []
    },
    {
      "cell_type": "code",
      "source": [
        "def read_article(document):\n",
        "  file = open(document,'r')\n",
        "  filedata = file.readlines()\n",
        "  #print(filedata)\n",
        "  article = filedata[0].split(\".\")\n",
        "  #print(article)\n",
        "  sentences = []\n",
        "  for sentence in article:\n",
        "        #print(sentence)\n",
        "        sentences.append(sentence.replace(\"[^a-zA-Z]\", \" \").split(\" \"))\n",
        "  sentences.pop()\n",
        "\n",
        "  return sentences"
      ],
      "metadata": {
        "id": "TYNNCT836Ss7"
      },
      "execution_count": 2,
      "outputs": []
    },
    {
      "cell_type": "code",
      "source": [
        "print(read_article(\"/content/trump.txt\"))"
      ],
      "metadata": {
        "colab": {
          "base_uri": "https://localhost:8080/"
        },
        "id": "JdMWeSeJ6wDU",
        "outputId": "2d089012-c226-4307-adac-49565f2bf98b"
      },
      "execution_count": 9,
      "outputs": [
        {
          "output_type": "stream",
          "name": "stdout",
          "text": [
            "[['WASHINGTON', '-', 'The', 'Trump', 'administration', 'has', 'ordered', 'the', 'military', 'to', 'start', 'withdrawing', 'roughly', '7,000', 'troops', 'from', 'Afghanistan', 'in', 'the', 'coming', 'months,', 'two', 'defense', 'officials', 'said', 'Thursday,', 'an', 'abrupt', 'shift', 'in', 'the', '17-year-old', 'war', 'there', 'and', 'a', 'decision', 'that', 'stunned', 'Afghan', 'officials,', 'who', 'said', 'they', 'had', 'not', 'been', 'briefed', 'on', 'the', 'plans'], ['President', 'Trump', 'made', 'the', 'decision', 'to', 'pull', 'the', 'troops', '-', 'about', 'half', 'the', 'number', 'the', 'United', 'States', 'has', 'in', 'Afghanistan', 'now', '-', 'at', 'the', 'same', 'time', 'he', 'decided', 'to', 'pull', 'American', 'forces', 'out', 'of', 'Syria,', 'one', 'official', 'said'], ['The', 'announcement', 'came', 'hours', 'after', 'Jim', 'Mattis,', 'the', 'secretary', 'of', 'defense,', 'said', 'that', 'he', 'would', 'resign', 'from', 'his', 'position', 'at', 'the', 'end', 'of', 'February', 'after', 'disagreeing', 'with', 'the', 'president', 'over', 'his', 'approach', 'to', 'policy', 'in', 'the', 'Middle', 'East'], ['The', 'whirlwind', 'of', 'troop', 'withdrawals', 'and', 'the', 'resignation', 'of', 'Mr'], ['', 'Mattis', 'leave', 'a', 'murky', 'picture', 'for', 'what', 'is', 'next', 'in', 'the', 'United', 'States’', 'longest', 'war,', 'and', 'they', 'come', 'as', 'Afghanistan', 'has', 'been', 'troubled', 'by', 'spasms', 'of', 'violence', 'afflicting', 'the', 'capital,', 'Kabul,', 'and', 'other', 'important', 'areas'], ['', 'The', 'United', 'States', 'has', 'also', 'been', 'conducting', 'talks', 'with', 'representatives', 'of', 'the', 'Taliban,', 'in', 'what', 'officials', 'have', 'described', 'as', 'discussions', 'that', 'could', 'lead', 'to', 'formal', 'talks', 'to', 'end', 'the', 'conflict'], ['Senior', 'Afghan', 'officials', 'and', 'Western', 'diplomats', 'in', 'Kabul', 'woke', 'up', 'to', 'the', 'shock', 'of', 'the', 'news', 'on', 'Friday', 'morning,', 'and', 'many', 'of', 'them', 'braced', 'for', 'chaos', 'ahead'], ['', 'Several', 'Afghan', 'officials,', 'often', 'in', 'the', 'loop', 'on', 'security', 'planning', 'and', 'decision-making,', 'said', 'they', 'had', 'received', 'no', 'indication', 'in', 'recent', 'days', 'that', 'the', 'Americans', 'would', 'pull', 'troops', 'out'], ['', 'The', 'fear', 'that', 'Mr'], ['', 'Trump', 'might', 'take', 'impulsive', 'actions,', 'however,', 'often', 'loomed', 'in', 'the', 'background', 'of', 'discussions', 'with', 'the', 'United', 'States,', 'they', 'said'], ['They', 'saw', 'the', 'abrupt', 'decision', 'as', 'a', 'further', 'sign', 'that', 'voices', 'from', 'the', 'ground', 'were', 'lacking', 'in', 'the', 'debate', 'over', 'the', 'war', 'and', 'that', 'with', 'Mr'], ['', 'Mattis’s', 'resignation,', 'Afghanistan', 'had', 'lost', 'one', 'of', 'the', 'last', 'influential', 'voices', 'in', 'Washington', 'who', 'channeled', 'the', 'reality', 'of', 'the', 'conflict', 'into', 'the', 'White', 'House’s', 'deliberations'], ['The', 'president', 'long', 'campaigned', 'on', 'bringing', 'troops', 'home,', 'but', 'in', '2017,', 'at', 'the', 'request', 'of', 'Mr'], ['', 'Mattis,', 'he', 'begrudgingly', 'pledged', 'an', 'additional', '4,000', 'troops', 'to', 'the', 'Afghan', 'campaign', 'to', 'try', 'to', 'hasten', 'an', 'end', 'to', 'the', 'conflict'], ['Though', 'Pentagon', 'officials', 'have', 'said', 'the', 'influx', 'of', 'forces', '-', 'coupled', 'with', 'a', 'more', 'aggressive', 'air', 'campaign', '-', 'was', 'helping', 'the', 'war', 'effort,', 'Afghan', 'forces', 'continued', 'to', 'take', 'nearly', 'unsustainable', 'levels', 'of', 'casualties', 'and', 'lose', 'ground', 'to', 'the', 'Taliban'], ['The', 'renewed', 'American', 'effort', 'in', '2017', 'was', 'the', 'first', 'step', 'in', 'ensuring', 'Afghan', 'forces', 'could', 'become', 'more', 'independent', 'without', 'a', 'set', 'timeline', 'for', 'a', 'withdrawal'], ['', 'But', 'with', 'plans', 'to', 'quickly', 'reduce', 'the', 'number', 'of', 'American', 'troops', 'in', 'the', 'country,', 'it', 'is', 'unclear', 'if', 'the', 'Afghans', 'can', 'hold', 'their', 'own', 'against', 'an', 'increasingly', 'aggressive', 'Taliban'], ['Currently,', 'American', 'airstrikes', 'are', 'at', 'levels', 'not', 'seen', 'since', 'the', 'height', 'of', 'the', 'war,', 'when', 'tens', 'of', 'thousands', 'of', 'American', 'troops', 'were', 'spread', 'throughout', 'the', 'country'], ['', 'That', 'air', 'support,', 'officials', 'say,', 'consists', 'mostly', 'of', 'propping', 'up', 'Afghan', 'troops', 'while', 'they', 'try', 'to', 'hold', 'territory', 'from', 'a', 'resurgent', 'Taliban']]\n"
          ]
        }
      ]
    },
    {
      "cell_type": "code",
      "source": [
        "def sentence_similarity(sent1, sent2, stopwords=None):\n",
        "    if stopwords is None:\n",
        "        stopwords = []\n",
        "\n",
        "    sent1 = [w.lower() for w in sent1]\n",
        "    sent2 = [w.lower() for w in sent2]\n",
        "\n",
        "    all_words = list(set(sent1 + sent2))\n",
        "\n",
        "    vector1 = [0] * len(all_words)\n",
        "    vector2 = [0] * len(all_words)\n",
        "\n",
        "    # build the vector for the first sentence\n",
        "    for w in sent1:\n",
        "        if w in stopwords:\n",
        "            continue\n",
        "        vector1[all_words.index(w)] += 1\n",
        "\n",
        "    # build the vector for the second sentence\n",
        "    for w in sent2:\n",
        "        if w in stopwords:\n",
        "            continue\n",
        "        vector2[all_words.index(w)] += 1\n",
        "\n",
        "    return 1 - cosine_distance(vector1, vector2)"
      ],
      "metadata": {
        "id": "4Kf_zsZU66Cm"
      },
      "execution_count": 5,
      "outputs": []
    },
    {
      "cell_type": "code",
      "source": [
        "print(sentence_similarity(read_article(\"/content/trump.txt\")[0], read_article(\"/content/trump.txt\")[1], stopwords=None))"
      ],
      "metadata": {
        "colab": {
          "base_uri": "https://localhost:8080/"
        },
        "id": "5OSMQfIh9lL3",
        "outputId": "403acf75-12b2-4b58-9f1f-bdabc2fc1a0c"
      },
      "execution_count": 12,
      "outputs": [
        {
          "output_type": "stream",
          "name": "stdout",
          "text": [
            "0.5484827557301444\n"
          ]
        }
      ]
    },
    {
      "cell_type": "code",
      "source": [
        "def build_similarity_matrix(sentences, stop_words):\n",
        "    # Create an empty similarity matrix\n",
        "    similarity_matrix = np.zeros((len(sentences), len(sentences)))\n",
        "\n",
        "    for idx1 in range(len(sentences)):\n",
        "        for idx2 in range(len(sentences)):\n",
        "            if idx1 == idx2: #ignore if both are same sentences\n",
        "                continue\n",
        "            similarity_matrix[idx1][idx2] = sentence_similarity(sentences[idx1], sentences[idx2], stop_words)\n",
        "\n",
        "    return similarity_matrix"
      ],
      "metadata": {
        "id": "bHTg8PCt2AaC"
      },
      "execution_count": 15,
      "outputs": []
    },
    {
      "cell_type": "code",
      "source": [
        "nltk.download(\"stopwords\")\n",
        "stop_words = stopwords.words('english')"
      ],
      "metadata": {
        "colab": {
          "base_uri": "https://localhost:8080/"
        },
        "id": "C6dEH3Wt3JH6",
        "outputId": "3dfb0ebb-f24f-4bad-bc36-28cde0f363e6"
      },
      "execution_count": 13,
      "outputs": [
        {
          "output_type": "stream",
          "name": "stderr",
          "text": [
            "[nltk_data] Downloading package stopwords to /root/nltk_data...\n",
            "[nltk_data]   Unzipping corpora/stopwords.zip.\n"
          ]
        }
      ]
    },
    {
      "cell_type": "code",
      "source": [
        "print(build_similarity_matrix(read_article(\"/content/trump.txt\"), stop_words))"
      ],
      "metadata": {
        "colab": {
          "base_uri": "https://localhost:8080/"
        },
        "id": "BItOI-BK2zZx",
        "outputId": "6d2957fb-e487-4c57-fa7f-8bb3e87e0d77"
      },
      "execution_count": 16,
      "outputs": [
        {
          "output_type": "stream",
          "name": "stdout",
          "text": [
            "[[0.         0.2773501  0.08111071 0.         0.03952847 0.04055536\n",
            "  0.09128709 0.20833333 0.         0.14173668 0.1677051  0.08838835\n",
            "  0.05892557 0.09805807 0.22592403 0.04419417 0.09449112 0.04287465\n",
            "  0.13693064]\n",
            " [0.2773501  0.         0.08998425 0.         0.0877058  0.08998425\n",
            "  0.         0.18490007 0.         0.15724273 0.06201737 0.09805807\n",
            "  0.13074409 0.05439283 0.25064021 0.09805807 0.15724273 0.14269545\n",
            "  0.05063697]\n",
            " [0.08111071 0.08998425 0.         0.         0.         0.05263158\n",
            "  0.         0.10814761 0.         0.06131393 0.         0.\n",
            "  0.07647191 0.12725695 0.04188539 0.         0.         0.\n",
            "  0.        ]\n",
            " [0.         0.         0.         0.         0.         0.\n",
            "  0.         0.         0.25819889 0.         0.14142136 0.\n",
            "  0.1490712  0.         0.         0.         0.         0.\n",
            "  0.        ]\n",
            " [0.03952847 0.0877058  0.         0.         0.         0.10259784\n",
            "  0.         0.05270463 0.12909944 0.11952286 0.         0.1118034\n",
            "  0.         0.06201737 0.         0.         0.05976143 0.05423261\n",
            "  0.05773503]\n",
            " [0.04055536 0.08998425 0.05263158 0.         0.10259784 0.\n",
            "  0.05923489 0.05407381 0.13245324 0.1839418  0.         0.11470787\n",
            "  0.         0.19088543 0.04188539 0.05735393 0.06131393 0.\n",
            "  0.11846978]\n",
            " [0.09128709 0.         0.         0.         0.         0.05923489\n",
            "  0.         0.06085806 0.         0.         0.         0.\n",
            "  0.         0.07161149 0.0942809  0.06454972 0.         0.\n",
            "  0.13333333]\n",
            " [0.20833333 0.18490007 0.10814761 0.         0.05270463 0.05407381\n",
            "  0.06085806 0.         0.13608276 0.18898224 0.         0.05892557\n",
            "  0.07856742 0.19611614 0.0860663  0.05892557 0.12598816 0.0571662\n",
            "  0.18257419]\n",
            " [0.         0.         0.         0.25819889 0.12909944 0.13245324\n",
            "  0.         0.13608276 0.         0.15430335 0.18257419 0.14433757\n",
            "  0.19245009 0.16012815 0.         0.         0.15430335 0.\n",
            "  0.1490712 ]\n",
            " [0.14173668 0.15724273 0.06131393 0.         0.11952286 0.1839418\n",
            "  0.         0.18898224 0.15430335 0.         0.         0.06681531\n",
            "  0.         0.07412493 0.09759001 0.         0.07142857 0.\n",
            "  0.06900656]\n",
            " [0.1677051  0.06201737 0.         0.14142136 0.         0.\n",
            "  0.         0.         0.18257419 0.         0.         0.07905694\n",
            "  0.10540926 0.         0.11547005 0.         0.         0.\n",
            "  0.        ]\n",
            " [0.08838835 0.09805807 0.         0.         0.1118034  0.11470787\n",
            "  0.         0.05892557 0.14433757 0.06681531 0.07905694 0.\n",
            "  0.         0.13867505 0.         0.         0.06681531 0.\n",
            "  0.06454972]\n",
            " [0.05892557 0.13074409 0.07647191 0.1490712  0.         0.\n",
            "  0.         0.07856742 0.19245009 0.         0.10540926 0.\n",
            "  0.         0.09245003 0.         0.         0.08908708 0.08084521\n",
            "  0.0860663 ]\n",
            " [0.09805807 0.05439283 0.12725695 0.         0.06201737 0.19088543\n",
            "  0.07161149 0.19611614 0.16012815 0.07412493 0.         0.13867505\n",
            "  0.09245003 0.         0.10127394 0.06933752 0.14824986 0.06726728\n",
            "  0.28644595]\n",
            " [0.22592403 0.25064021 0.04188539 0.         0.         0.04188539\n",
            "  0.0942809  0.0860663  0.         0.09759001 0.11547005 0.\n",
            "  0.         0.10127394 0.         0.13693064 0.09759001 0.04428074\n",
            "  0.18856181]\n",
            " [0.04419417 0.09805807 0.         0.         0.         0.05735393\n",
            "  0.06454972 0.05892557 0.         0.         0.         0.\n",
            "  0.         0.06933752 0.13693064 0.         0.06681531 0.12126781\n",
            "  0.06454972]\n",
            " [0.09449112 0.15724273 0.         0.         0.05976143 0.06131393\n",
            "  0.         0.12598816 0.15430335 0.07142857 0.         0.06681531\n",
            "  0.08908708 0.14824986 0.09759001 0.06681531 0.         0.19446112\n",
            "  0.27602622]\n",
            " [0.04287465 0.14269545 0.         0.         0.05423261 0.\n",
            "  0.         0.0571662  0.         0.         0.         0.\n",
            "  0.08084521 0.06726728 0.04428074 0.12126781 0.19446112 0.\n",
            "  0.06262243]\n",
            " [0.13693064 0.05063697 0.         0.         0.05773503 0.11846978\n",
            "  0.13333333 0.18257419 0.1490712  0.06900656 0.         0.06454972\n",
            "  0.0860663  0.28644595 0.18856181 0.06454972 0.27602622 0.06262243\n",
            "  0.        ]]\n"
          ]
        }
      ]
    },
    {
      "cell_type": "code",
      "source": [
        "def generate_summary(file_name, top_n=5):\n",
        "\n",
        "    summarize_text = []\n",
        "\n",
        "    sentences =  read_article(file_name)\n",
        "\n",
        "    sentence_similarity_martix = build_similarity_matrix(sentences, stop_words)\n",
        "\n",
        "    sentence_similarity_graph = nx.from_numpy_array(sentence_similarity_martix)\n",
        "    #print(sentence_similarity_graph)\n",
        "    scores = nx.pagerank(sentence_similarity_graph)\n",
        "    #print(scores)\n",
        "\n",
        "    #print(((scores[i],s) for i,s in enumerate(sentences)))\n",
        "\n",
        "    ranked_sentence = sorted(((scores[i],s) for i,s in enumerate(sentences)), reverse=True)\n",
        "    print(\"Indexes of top ranked_sentence order are \", ranked_sentence)\n",
        "\n",
        "    for i in range(top_n):\n",
        "      summarize_text.append(\" \".join(ranked_sentence[i][1]))\n",
        "\n",
        "    print(\"Summarize Text: \\n\", \". \".join(summarize_text))\n"
      ],
      "metadata": {
        "id": "Meiw9KBm3qZL"
      },
      "execution_count": 25,
      "outputs": []
    },
    {
      "cell_type": "code",
      "source": [
        "generate_summary(\"/content/trump.txt\", 2)"
      ],
      "metadata": {
        "colab": {
          "base_uri": "https://localhost:8080/"
        },
        "id": "e7X7WF1G32pT",
        "outputId": "dcd43898-0ca6-4de5-b166-c84c7b4a9a02"
      },
      "execution_count": 26,
      "outputs": [
        {
          "output_type": "stream",
          "name": "stdout",
          "text": [
            "Indexes of top ranked_sentence order are  [(0.07539020741864103, ['', 'Mattis,', 'he', 'begrudgingly', 'pledged', 'an', 'additional', '4,000', 'troops', 'to', 'the', 'Afghan', 'campaign', 'to', 'try', 'to', 'hasten', 'an', 'end', 'to', 'the', 'conflict']), (0.07521361534475711, ['President', 'Trump', 'made', 'the', 'decision', 'to', 'pull', 'the', 'troops', '-', 'about', 'half', 'the', 'number', 'the', 'United', 'States', 'has', 'in', 'Afghanistan', 'now', '-', 'at', 'the', 'same', 'time', 'he', 'decided', 'to', 'pull', 'American', 'forces', 'out', 'of', 'Syria,', 'one', 'official', 'said']), (0.07445451764762709, ['', 'That', 'air', 'support,', 'officials', 'say,', 'consists', 'mostly', 'of', 'propping', 'up', 'Afghan', 'troops', 'while', 'they', 'try', 'to', 'hold', 'territory', 'from', 'a', 'resurgent', 'Taliban']), (0.07237621565584887, ['', 'The', 'fear', 'that', 'Mr']), (0.07199159190712157, ['WASHINGTON', '-', 'The', 'Trump', 'administration', 'has', 'ordered', 'the', 'military', 'to', 'start', 'withdrawing', 'roughly', '7,000', 'troops', 'from', 'Afghanistan', 'in', 'the', 'coming', 'months,', 'two', 'defense', 'officials', 'said', 'Thursday,', 'an', 'abrupt', 'shift', 'in', 'the', '17-year-old', 'war', 'there', 'and', 'a', 'decision', 'that', 'stunned', 'Afghan', 'officials,', 'who', 'said', 'they', 'had', 'not', 'been', 'briefed', 'on', 'the', 'plans']), (0.07141813708945574, ['', 'Several', 'Afghan', 'officials,', 'often', 'in', 'the', 'loop', 'on', 'security', 'planning', 'and', 'decision-making,', 'said', 'they', 'had', 'received', 'no', 'indication', 'in', 'recent', 'days', 'that', 'the', 'Americans', 'would', 'pull', 'troops', 'out']), (0.06504263169572336, ['', 'But', 'with', 'plans', 'to', 'quickly', 'reduce', 'the', 'number', 'of', 'American', 'troops', 'in', 'the', 'country,', 'it', 'is', 'unclear', 'if', 'the', 'Afghans', 'can', 'hold', 'their', 'own', 'against', 'an', 'increasingly', 'aggressive', 'Taliban']), (0.060804566915168515, ['Though', 'Pentagon', 'officials', 'have', 'said', 'the', 'influx', 'of', 'forces', '-', 'coupled', 'with', 'a', 'more', 'aggressive', 'air', 'campaign', '-', 'was', 'helping', 'the', 'war', 'effort,', 'Afghan', 'forces', 'continued', 'to', 'take', 'nearly', 'unsustainable', 'levels', 'of', 'casualties', 'and', 'lose', 'ground', 'to', 'the', 'Taliban']), (0.05528868522927809, ['', 'Trump', 'might', 'take', 'impulsive', 'actions,', 'however,', 'often', 'loomed', 'in', 'the', 'background', 'of', 'discussions', 'with', 'the', 'United', 'States,', 'they', 'said']), (0.05293729267353606, ['', 'The', 'United', 'States', 'has', 'also', 'been', 'conducting', 'talks', 'with', 'representatives', 'of', 'the', 'Taliban,', 'in', 'what', 'officials', 'have', 'described', 'as', 'discussions', 'that', 'could', 'lead', 'to', 'formal', 'talks', 'to', 'end', 'the', 'conflict']), (0.048603071418342095, ['The', 'president', 'long', 'campaigned', 'on', 'bringing', 'troops', 'home,', 'but', 'in', '2017,', 'at', 'the', 'request', 'of', 'Mr']), (0.043263586348674, ['', 'Mattis’s', 'resignation,', 'Afghanistan', 'had', 'lost', 'one', 'of', 'the', 'last', 'influential', 'voices', 'in', 'Washington', 'who', 'channeled', 'the', 'reality', 'of', 'the', 'conflict', 'into', 'the', 'White', 'House’s', 'deliberations']), (0.03839213717708185, ['They', 'saw', 'the', 'abrupt', 'decision', 'as', 'a', 'further', 'sign', 'that', 'voices', 'from', 'the', 'ground', 'were', 'lacking', 'in', 'the', 'debate', 'over', 'the', 'war', 'and', 'that', 'with', 'Mr']), (0.03780673224486017, ['', 'Mattis', 'leave', 'a', 'murky', 'picture', 'for', 'what', 'is', 'next', 'in', 'the', 'United', 'States’', 'longest', 'war,', 'and', 'they', 'come', 'as', 'Afghanistan', 'has', 'been', 'troubled', 'by', 'spasms', 'of', 'violence', 'afflicting', 'the', 'capital,', 'Kabul,', 'and', 'other', 'important', 'areas']), (0.03769979601176568, ['Currently,', 'American', 'airstrikes', 'are', 'at', 'levels', 'not', 'seen', 'since', 'the', 'height', 'of', 'the', 'war,', 'when', 'tens', 'of', 'thousands', 'of', 'American', 'troops', 'were', 'spread', 'throughout', 'the', 'country']), (0.03491617602888025, ['The', 'renewed', 'American', 'effort', 'in', '2017', 'was', 'the', 'first', 'step', 'in', 'ensuring', 'Afghan', 'forces', 'could', 'become', 'more', 'independent', 'without', 'a', 'set', 'timeline', 'for', 'a', 'withdrawal']), (0.029446157206476396, ['The', 'announcement', 'came', 'hours', 'after', 'Jim', 'Mattis,', 'the', 'secretary', 'of', 'defense,', 'said', 'that', 'he', 'would', 'resign', 'from', 'his', 'position', 'at', 'the', 'end', 'of', 'February', 'after', 'disagreeing', 'with', 'the', 'president', 'over', 'his', 'approach', 'to', 'policy', 'in', 'the', 'Middle', 'East']), (0.027562249723018063, ['The', 'whirlwind', 'of', 'troop', 'withdrawals', 'and', 'the', 'resignation', 'of', 'Mr']), (0.027392632263743878, ['Senior', 'Afghan', 'officials', 'and', 'Western', 'diplomats', 'in', 'Kabul', 'woke', 'up', 'to', 'the', 'shock', 'of', 'the', 'news', 'on', 'Friday', 'morning,', 'and', 'many', 'of', 'them', 'braced', 'for', 'chaos', 'ahead'])]\n",
            "Summarize Text: \n",
            "  Mattis, he begrudgingly pledged an additional 4,000 troops to the Afghan campaign to try to hasten an end to the conflict. President Trump made the decision to pull the troops - about half the number the United States has in Afghanistan now - at the same time he decided to pull American forces out of Syria, one official said\n"
          ]
        }
      ]
    }
  ]
}